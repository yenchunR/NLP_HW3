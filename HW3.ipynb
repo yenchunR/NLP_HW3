{
 "cells": [
  {
   "cell_type": "code",
   "execution_count": 127,
   "id": "7e820023",
   "metadata": {},
   "outputs": [
    {
     "name": "stderr",
     "output_type": "stream",
     "text": [
      "Building prefix dict from /Users/ruru/NLP/HW3/dict.txt.big ...\n",
      "Loading model from cache /var/folders/7t/bb_qyqxs0s1d1slg3618dg8r0000gn/T/jieba.ubbcc4e0b36da5e3874b4ccf5fcbd7ff2.cache\n",
      "Loading model cost 0.931 seconds.\n",
      "Prefix dict has been built succesfully.\n"
     ]
    },
    {
     "name": "stdout",
     "output_type": "stream",
     "text": [
      "['科幻', '奇幻', '動作', '動畫', '音樂/歌舞', '溫馨/家庭', '戰爭', '勵志', '劇情', '冒險', '犯罪', '恐怖', '喜劇', '影展', '紀錄片', 'NA', '武俠', '戲劇', '歷史/傳記', '愛情', '懸疑/驚悚']\n",
      "Finish\n"
     ]
    }
   ],
   "source": [
    "# -*- coding: utf-8 -*-\n",
    "from sklearn.feature_extraction.text import CountVectorizer\n",
    "from sklearn.feature_extraction.text import TfidfTransformer\n",
    "from sklearn.feature_extraction.text import TfidfVectorizer\n",
    "import pandas as pd\n",
    "import re\n",
    "import jieba\n",
    "import jieba.analyse\n",
    "import numpy as np\n",
    "\n",
    "jieba.set_dictionary('dict.txt.big')##加入繁體中文\n",
    "\n",
    "totalMovie = 6000\n",
    "Seg = [] #切詞後的結果\n",
    "labels = []\n",
    "labelType = []\n",
    "\n",
    "def stopwordslist(filepath):  \n",
    "    stopwords = [line.strip() for line in open(filepath, 'r', encoding='utf-8').readlines()]  \n",
    "    return stopwords \n",
    "\n",
    "with open('movie.csv', encoding=\"utf-8\") as file:\n",
    "    stopwords = stopwordslist('StopWords.txt')  # 這裏加載停用詞的路徑 \n",
    "    for i,line in enumerate(file.readlines()):\n",
    "        \n",
    "        if i == totalMovie:\n",
    "            break\n",
    "        storyText = line.split(\" | \")\n",
    "        story  = storyText[3]\n",
    "        temp_text = re.findall('[\\u4e00-\\u9fa5]', story)\n",
    "        story = ''.join(temp_text)\n",
    "        \n",
    "        jieba.add_word('為什麼')\n",
    "        jieba.add_word('有沒有')\n",
    "         \n",
    "        tags = jieba.lcut(story,cut_all=False)\n",
    "        ThisLine = ''\n",
    "        for tag in tags:\n",
    "            if tag not in stopwords:  \n",
    "                if tag != '\\t' and tag != '\\n' and tag != '':  \n",
    "                    ThisLine += tag  \n",
    "                    ThisLine += \" \"   #再次組合成【帶空格】的串\n",
    "                    \n",
    "        Seg.append(ThisLine)\n",
    "        \n",
    "        label = storyText[1].split(\" \")\n",
    "        labels.append(label[0])\n",
    "\n",
    "labelType = list(set(labels))\n",
    "print(labelType)\n",
    "print(\"Finish\")"
   ]
  },
  {
   "cell_type": "code",
   "execution_count": 128,
   "id": "5f45e135",
   "metadata": {},
   "outputs": [
    {
     "name": "stdout",
     "output_type": "stream",
     "text": [
      "Finish\n"
     ]
    }
   ],
   "source": [
    "vectorizer = CountVectorizer()\n",
    "transformer = TfidfTransformer()\n",
    "tfidf = transformer.fit_transform(vectorizer.fit_transform(Seg))\n",
    "#獲取詞袋模型中的所有詞語  \n",
    "word=vectorizer.get_feature_names()\n",
    "print(\"Finish\")"
   ]
  },
  {
   "cell_type": "code",
   "execution_count": 135,
   "id": "8f02ae65",
   "metadata": {},
   "outputs": [
    {
     "name": "stdout",
     "output_type": "stream",
     "text": [
      "Finish\n"
     ]
    }
   ],
   "source": [
    "from sklearn.model_selection import train_test_split\n",
    "from sklearn.neighbors import KNeighborsClassifier\n",
    "\n",
    "train_data , test_data , train_label , test_label = train_test_split(tfidf,labels,train_size=5500, test_size=500)\n",
    "knn = KNeighborsClassifier()\n",
    "knn.fit(train_data,train_label)\n",
    "Result = knn.predict(test_data)\n",
    "print(\"Finish\")"
   ]
  },
  {
   "cell_type": "code",
   "execution_count": 136,
   "id": "0f65baf9",
   "metadata": {},
   "outputs": [
    {
     "name": "stdout",
     "output_type": "stream",
     "text": [
      "70 / 500\n"
     ]
    }
   ],
   "source": [
    "Score = 0\n",
    "index = 0\n",
    "with open('movie.csv', encoding=\"utf-8\") as file:\n",
    "    for i,line in enumerate(file.readlines()):\n",
    "        if i == totalMovie:\n",
    "            break\n",
    "            \n",
    "        AllText = line.split(\" | \")\n",
    "        nowLabel = AllText[1].split(\" \")\n",
    "        nowLabel = nowLabel[0]\n",
    "        \n",
    "        if i > totalMovie - len(Result):\n",
    "            if nowLabel == Result[index]:\n",
    "                Score += 1\n",
    "            index += 1\n",
    "            #print(i, nowLabel, Result[index])\n",
    "\n",
    "print(Score, '/', len(Result))"
   ]
  }
 ],
 "metadata": {
  "kernelspec": {
   "display_name": "Python 3 (ipykernel)",
   "language": "python",
   "name": "python3"
  },
  "language_info": {
   "codemirror_mode": {
    "name": "ipython",
    "version": 3
   },
   "file_extension": ".py",
   "mimetype": "text/x-python",
   "name": "python",
   "nbconvert_exporter": "python",
   "pygments_lexer": "ipython3",
   "version": "3.8.10"
  }
 },
 "nbformat": 4,
 "nbformat_minor": 5
}
