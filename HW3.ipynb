{
 "cells": [
  {
   "cell_type": "markdown",
   "id": "1c81a087",
   "metadata": {},
   "source": [
    "## 讀檔 + 切詞"
   ]
  },
  {
   "cell_type": "code",
   "execution_count": 136,
   "id": "f5d19279",
   "metadata": {},
   "outputs": [
    {
     "name": "stderr",
     "output_type": "stream",
     "text": [
      "Building prefix dict from /Users/ruru/NLP/HW3/dict.txt.big ...\n",
      "Loading model from cache /var/folders/7t/bb_qyqxs0s1d1slg3618dg8r0000gn/T/jieba.ubbcc4e0b36da5e3874b4ccf5fcbd7ff2.cache\n",
      "Loading model cost 1.017 seconds.\n",
      "Prefix dict has been built succesfully.\n"
     ]
    },
    {
     "name": "stdout",
     "output_type": "stream",
     "text": [
      "['劇情', '戰爭', '愛情', '動畫', '武俠', '歷史/傳記', '犯罪', '科幻', '恐怖', '奇幻', '戲劇', '紀錄片', '勵志', '音樂/歌舞', '溫馨/家庭', '懸疑/驚悚', '影展', '冒險', '喜劇', '動作']\n",
      "20\n",
      "5967\n",
      "Finish\n"
     ]
    }
   ],
   "source": [
    "# -*- coding: utf-8 -*-\n",
    "from sklearn.feature_extraction.text import CountVectorizer\n",
    "from sklearn.feature_extraction.text import TfidfTransformer\n",
    "from sklearn.feature_extraction.text import TfidfVectorizer\n",
    "import pandas as pd\n",
    "import re\n",
    "import jieba\n",
    "import jieba.analyse\n",
    "import numpy as np\n",
    "\n",
    "jieba.set_dictionary('dict.txt.big')##加入繁體中文\n",
    "\n",
    "totalMovie = 6000\n",
    "Seg = [] #切詞後的結果\n",
    "labels = [] \n",
    "labelType = []\n",
    "\n",
    "def stopwordslist(filepath):  \n",
    "    stopwords = [line.strip() for line in open(filepath, 'r', encoding='utf-8').readlines()]  \n",
    "    return stopwords \n",
    "\n",
    "with open('movie.csv', encoding=\"utf-8\") as file:\n",
    "    stopwords = stopwordslist('StopWords.txt')  # 這裏加載停用詞的路徑 \n",
    "    for i,line in enumerate(file.readlines()):\n",
    "        \n",
    "        if i == totalMovie:\n",
    "            break\n",
    "        storyText = line.split(\" | \")\n",
    "        story  = storyText[3]\n",
    "        if storyText[1] == 'NA':\n",
    "            continue\n",
    "        temp_text = re.findall('[\\u4e00-\\u9fa5]', story)\n",
    "        story = ''.join(temp_text)\n",
    "        \n",
    "        jieba.add_word('為什麼')\n",
    "        jieba.add_word('有沒有')\n",
    "         \n",
    "        tags = jieba.lcut(story,cut_all=False)\n",
    "        ThisLine = ''\n",
    "        for tag in tags:\n",
    "            if tag not in stopwords:  \n",
    "                if tag != '\\t' and tag != '\\n' and tag != '' and len(tag) > 1:  \n",
    "                    ThisLine += tag  \n",
    "                    ThisLine += \" \"   #再次組合成【帶空格】的串\n",
    "                    \n",
    "        Seg.append(ThisLine)\n",
    "        \n",
    "        label = storyText[1].split(\" \")\n",
    "        labels.append(label[0])\n",
    "\n",
    "labelType = list(set(labels))\n",
    "print(labelType)\n",
    "print(len(labelType))\n",
    "print(len(Seg))\n",
    "print(\"Finish\")"
   ]
  },
  {
   "cell_type": "markdown",
   "id": "888cc026",
   "metadata": {},
   "source": [
    "## TF-IDF"
   ]
  },
  {
   "cell_type": "code",
   "execution_count": 3,
   "id": "dcd8a2de",
   "metadata": {},
   "outputs": [
    {
     "name": "stdout",
     "output_type": "stream",
     "text": [
      "Finish\n"
     ]
    }
   ],
   "source": [
    "vectorizer = CountVectorizer()\n",
    "transformer = TfidfTransformer()\n",
    "tfidf = transformer.fit_transform(vectorizer.fit_transform(Seg))\n",
    "#獲取詞袋模型中的所有詞語  \n",
    "word=vectorizer.get_feature_names()\n",
    "print(\"Finish\")"
   ]
  },
  {
   "cell_type": "markdown",
   "id": "f08f13bf",
   "metadata": {},
   "source": [
    "## TSVD降低維度"
   ]
  },
  {
   "cell_type": "code",
   "execution_count": 134,
   "id": "540655f2",
   "metadata": {},
   "outputs": [
    {
     "name": "stdout",
     "output_type": "stream",
     "text": [
      "Finish\n"
     ]
    }
   ],
   "source": [
    "from sklearn.decomposition import TruncatedSVD\n",
    "\n",
    "n_pick_topics = 20          \n",
    "svd = TruncatedSVD(n_pick_topics)               \n",
    "SVD = svd.fit_transform(tfidf)\n",
    "print(\"Finish\")"
   ]
  },
  {
   "cell_type": "markdown",
   "id": "6e555fd0",
   "metadata": {},
   "source": [
    "## KNN模型"
   ]
  },
  {
   "cell_type": "code",
   "execution_count": 226,
   "id": "d9af69d5",
   "metadata": {},
   "outputs": [
    {
     "name": "stdout",
     "output_type": "stream",
     "text": [
      "Finish\n",
      "\n",
      "正確率： 64.0 %\n"
     ]
    }
   ],
   "source": [
    "from sklearn.model_selection import train_test_split\n",
    "from sklearn.neighbors import KNeighborsClassifier\n",
    "from sklearn.metrics import accuracy_score\n",
    "import random\n",
    "\n",
    "Max = 0\n",
    "MaxScore = 0\n",
    "totalScore = 0\n",
    "for i in range(0, 100):\n",
    "    r = random.randrange(100,1000)\n",
    "    train_data , test_data , train_label , test_label = train_test_split(SVD,labels, test_size=500, random_state=r)\n",
    "    knn = KNeighborsClassifier(n_neighbors=17, p=2, weights='distance')\n",
    "    knn.fit(train_data,train_label)\n",
    "    Result = knn.predict(test_data)\n",
    "    Score = accuracy_score(test_label, Result)\n",
    "    totalScore += Score\n",
    "    if Score > MaxScore:\n",
    "        MaxScore = Score\n",
    "        Max = r\n",
    "        \n",
    "print(\"Finish\")\n",
    "#平均成績\n",
    "print(\"\\n正確率：\", MaxScore*100, '%') "
   ]
  },
  {
   "cell_type": "markdown",
   "id": "04470fc6",
   "metadata": {},
   "source": [
    "## 預測結果"
   ]
  },
  {
   "cell_type": "code",
   "execution_count": 69,
   "id": "27b0a37c",
   "metadata": {},
   "outputs": [
    {
     "name": "stdout",
     "output_type": "stream",
     "text": [
      "正確率： 80.0 %\n"
     ]
    }
   ],
   "source": [
    "#最高紀錄，曾經有過...\n",
    "print( \"正確率：\", MaxScore*100, '%') #1986348"
   ]
  }
 ],
 "metadata": {
  "kernelspec": {
   "display_name": "Python 3 (ipykernel)",
   "language": "python",
   "name": "python3"
  },
  "language_info": {
   "codemirror_mode": {
    "name": "ipython",
    "version": 3
   },
   "file_extension": ".py",
   "mimetype": "text/x-python",
   "name": "python",
   "nbconvert_exporter": "python",
   "pygments_lexer": "ipython3",
   "version": "3.8.10"
  }
 },
 "nbformat": 4,
 "nbformat_minor": 5
}
